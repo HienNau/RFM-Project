{
 "cells": [
  {
   "cell_type": "code",
   "execution_count": 1,
   "metadata": {},
   "outputs": [],
   "source": [
    "# pip install pyodbc"
   ]
  },
  {
   "cell_type": "markdown",
   "metadata": {},
   "source": [
    "Import specialized packages"
   ]
  },
  {
   "cell_type": "code",
   "execution_count": 2,
   "metadata": {},
   "outputs": [],
   "source": [
    "import numpy as np\n",
    "import pandas as pd\n",
    "import pyodbc\n",
    "import itertools\n",
    "import seaborn as sns\n",
    "import matplotlib.pyplot as plt\n"
   ]
  },
  {
   "cell_type": "markdown",
   "metadata": {},
   "source": [
    "Set global settings for better look and feel"
   ]
  },
  {
   "cell_type": "code",
   "execution_count": 30,
   "metadata": {},
   "outputs": [],
   "source": [
    "pd.options.display.max_rows = 50\n",
    "pd.options.display.max_columns = 30\n",
    "#plt.style.use(\"seaborn-whitegrid\")\n",
    "sns.set_color_codes(\"muted\")"
   ]
  },
  {
   "cell_type": "markdown",
   "metadata": {},
   "source": [
    "Connect Python with SQL Server using pyodbc"
   ]
  },
  {
   "cell_type": "code",
   "execution_count": 3,
   "metadata": {},
   "outputs": [],
   "source": [
    "SERVER = \".\"\n",
    "DATABASE = \"RFM_Data\" \n",
    "connectionString = f'DRIVER={{ODBC Driver 13 for SQL Server}};SERVER={SERVER};DATABASE={DATABASE};Trusted_Connection=yes;'\n",
    "conn = pyodbc.connect(connectionString)"
   ]
  },
  {
   "cell_type": "markdown",
   "metadata": {},
   "source": [
    "Get data from database and compute Recency, Frequency, Monetary"
   ]
  },
  {
   "cell_type": "code",
   "execution_count": 4,
   "metadata": {},
   "outputs": [
    {
     "name": "stderr",
     "output_type": "stream",
     "text": [
      "C:\\Users\\hungl\\AppData\\Local\\Temp\\ipykernel_18980\\4294511275.py:9: UserWarning: pandas only supports SQLAlchemy connectable (engine/connection) or database string URI or sqlite3 DBAPI2 connection. Other DBAPI2 objects are not tested. Please consider using SQLAlchemy.\n",
      "  df = pd.read_sql_query(\"select * from #temp_table\",conn)\n"
     ]
    },
    {
     "data": {
      "text/html": [
       "<div>\n",
       "<style scoped>\n",
       "    .dataframe tbody tr th:only-of-type {\n",
       "        vertical-align: middle;\n",
       "    }\n",
       "\n",
       "    .dataframe tbody tr th {\n",
       "        vertical-align: top;\n",
       "    }\n",
       "\n",
       "    .dataframe thead th {\n",
       "        text-align: right;\n",
       "    }\n",
       "</style>\n",
       "<table border=\"1\" class=\"dataframe\">\n",
       "  <thead>\n",
       "    <tr style=\"text-align: right;\">\n",
       "      <th></th>\n",
       "      <th>CustomerID</th>\n",
       "      <th>Recency</th>\n",
       "      <th>Frequency</th>\n",
       "      <th>Monetary</th>\n",
       "    </tr>\n",
       "  </thead>\n",
       "  <tbody>\n",
       "    <tr>\n",
       "      <th>0</th>\n",
       "      <td>895524</td>\n",
       "      <td>92</td>\n",
       "      <td>0.25</td>\n",
       "      <td>21352.38</td>\n",
       "    </tr>\n",
       "    <tr>\n",
       "      <th>1</th>\n",
       "      <td>838054</td>\n",
       "      <td>62</td>\n",
       "      <td>0.24</td>\n",
       "      <td>20697.13</td>\n",
       "    </tr>\n",
       "    <tr>\n",
       "      <th>2</th>\n",
       "      <td>853482</td>\n",
       "      <td>31</td>\n",
       "      <td>0.25</td>\n",
       "      <td>23318.77</td>\n",
       "    </tr>\n",
       "    <tr>\n",
       "      <th>3</th>\n",
       "      <td>720768</td>\n",
       "      <td>62</td>\n",
       "      <td>0.23</td>\n",
       "      <td>33161.03</td>\n",
       "    </tr>\n",
       "    <tr>\n",
       "      <th>4</th>\n",
       "      <td>620634</td>\n",
       "      <td>31</td>\n",
       "      <td>0.22</td>\n",
       "      <td>16159.98</td>\n",
       "    </tr>\n",
       "    <tr>\n",
       "      <th>5</th>\n",
       "      <td>781753</td>\n",
       "      <td>62</td>\n",
       "      <td>0.24</td>\n",
       "      <td>17741.41</td>\n",
       "    </tr>\n",
       "    <tr>\n",
       "      <th>6</th>\n",
       "      <td>849219</td>\n",
       "      <td>31</td>\n",
       "      <td>0.49</td>\n",
       "      <td>36720.33</td>\n",
       "    </tr>\n",
       "    <tr>\n",
       "      <th>7</th>\n",
       "      <td>995700</td>\n",
       "      <td>92</td>\n",
       "      <td>0.27</td>\n",
       "      <td>25310.22</td>\n",
       "    </tr>\n",
       "    <tr>\n",
       "      <th>8</th>\n",
       "      <td>698207</td>\n",
       "      <td>62</td>\n",
       "      <td>0.23</td>\n",
       "      <td>6771.80</td>\n",
       "    </tr>\n",
       "    <tr>\n",
       "      <th>9</th>\n",
       "      <td>619154</td>\n",
       "      <td>62</td>\n",
       "      <td>0.22</td>\n",
       "      <td>16150.44</td>\n",
       "    </tr>\n",
       "  </tbody>\n",
       "</table>\n",
       "</div>"
      ],
      "text/plain": [
       "   CustomerID  Recency  Frequency  Monetary\n",
       "0      895524       92       0.25  21352.38\n",
       "1      838054       62       0.24  20697.13\n",
       "2      853482       31       0.25  23318.77\n",
       "3      720768       62       0.23  33161.03\n",
       "4      620634       31       0.22  16159.98\n",
       "5      781753       62       0.24  17741.41\n",
       "6      849219       31       0.49  36720.33\n",
       "7      995700       92       0.27  25310.22\n",
       "8      698207       62       0.23   6771.80\n",
       "9      619154       62       0.22  16150.44"
      ]
     },
     "execution_count": 4,
     "metadata": {},
     "output_type": "execute_result"
    }
   ],
   "source": [
    "cursor = conn.cursor()\n",
    "query = \"select T.CustomerID, datediff(day, max(T.Purchase_Date), '2022-09-01') as Recency,\\\n",
    "\t\tcast(count(T.Purchase_Date)/(1.00*Datediff(day, R.created_date, '2022-09-01')/365) as decimal(8,2)) as Frequency,\\\n",
    "\t\tcast(sum(T.GMV)/(1.00*Datediff(day, R.created_date, '2022-09-01')/365) as decimal(8,2)) as Monetary\\\n",
    "\t\tinto #temp_table\\\n",
    "\t\tfrom Customer_Transaction T join Customer_Registered R on T.CustomerID = R.ID\\\n",
    "\t\tgroup by T.CustomerID, R.created_date\"\n",
    "cursor.execute(query)\n",
    "df = pd.read_sql_query(\"select * from #temp_table\",conn)\n",
    "cursor.close()\n",
    "conn.close()\n",
    "df.head(10)"
   ]
  },
  {
   "cell_type": "code",
   "execution_count": 5,
   "metadata": {},
   "outputs": [
    {
     "name": "stdout",
     "output_type": "stream",
     "text": [
      "<class 'pandas.core.frame.DataFrame'>\n",
      "RangeIndex: 114081 entries, 0 to 114080\n",
      "Data columns (total 4 columns):\n",
      " #   Column      Non-Null Count   Dtype  \n",
      "---  ------      --------------   -----  \n",
      " 0   CustomerID  114081 non-null  int64  \n",
      " 1   Recency     114081 non-null  int64  \n",
      " 2   Frequency   114081 non-null  float64\n",
      " 3   Monetary    114081 non-null  float64\n",
      "dtypes: float64(2), int64(2)\n",
      "memory usage: 3.5 MB\n"
     ]
    }
   ],
   "source": [
    "df.info()"
   ]
  },
  {
   "cell_type": "markdown",
   "metadata": {},
   "source": [
    "Compute F, M indicators based on Quartiles"
   ]
  },
  {
   "cell_type": "code",
   "execution_count": 6,
   "metadata": {},
   "outputs": [],
   "source": [
    "def compute_FM(x):      \n",
    "    if x < Q1:\n",
    "        return 1\n",
    "    elif (x >= Q1 and x < Q2):\n",
    "        return 2\n",
    "    elif (x >= Q2 and x < Q3):\n",
    "        return 3\n",
    "    else:\n",
    "        return 4"
   ]
  },
  {
   "cell_type": "markdown",
   "metadata": {},
   "source": [
    "Compute R indicators based on Quartiles"
   ]
  },
  {
   "cell_type": "code",
   "execution_count": 7,
   "metadata": {},
   "outputs": [],
   "source": [
    "def compute_R(x):      \n",
    "    if x < Q1:\n",
    "        return 4\n",
    "    elif (x >= Q1 and x < Q2):\n",
    "        return 3\n",
    "    elif (x >= Q2 and x < Q3):\n",
    "        return 2\n",
    "    else:\n",
    "        return 1"
   ]
  },
  {
   "cell_type": "code",
   "execution_count": 8,
   "metadata": {},
   "outputs": [],
   "source": [
    "Q1 = df[\"Recency\"].quantile(0.25)\n",
    "Q2 = df[\"Recency\"].quantile(0.5)\n",
    "Q3 = df[\"Recency\"].quantile(0.75)\n",
    "list_R = [Q1,Q2,Q3]\n",
    "df[\"R\"] = df[\"Recency\"].apply(compute_R)"
   ]
  },
  {
   "cell_type": "code",
   "execution_count": 9,
   "metadata": {},
   "outputs": [],
   "source": [
    "Q1 = df[\"Frequency\"].quantile(0.25)\n",
    "Q2 = df[\"Frequency\"].quantile(0.5)\n",
    "Q3 = df[\"Frequency\"].quantile(0.75)\n",
    "list_F = [Q1,Q2,Q3]\n",
    "df[\"F\"] = df[\"Frequency\"].apply(compute_FM)"
   ]
  },
  {
   "cell_type": "code",
   "execution_count": 10,
   "metadata": {},
   "outputs": [],
   "source": [
    "Q1 = df[\"Monetary\"].quantile(0.25)\n",
    "Q2 = df[\"Monetary\"].quantile(0.5)\n",
    "Q3 = df[\"Monetary\"].quantile(0.75)\n",
    "list_M = [Q1,Q2,Q3]\n",
    "df[\"M\"] = df[\"Monetary\"].apply(compute_FM)"
   ]
  },
  {
   "cell_type": "markdown",
   "metadata": {},
   "source": [
    "Generate a dataframe about Quartiles of R, F, M"
   ]
  },
  {
   "cell_type": "code",
   "execution_count": 11,
   "metadata": {},
   "outputs": [
    {
     "data": {
      "text/html": [
       "<div>\n",
       "<style scoped>\n",
       "    .dataframe tbody tr th:only-of-type {\n",
       "        vertical-align: middle;\n",
       "    }\n",
       "\n",
       "    .dataframe tbody tr th {\n",
       "        vertical-align: top;\n",
       "    }\n",
       "\n",
       "    .dataframe thead th {\n",
       "        text-align: right;\n",
       "    }\n",
       "</style>\n",
       "<table border=\"1\" class=\"dataframe\">\n",
       "  <thead>\n",
       "    <tr style=\"text-align: right;\">\n",
       "      <th></th>\n",
       "      <th>Quartiles</th>\n",
       "      <th>R</th>\n",
       "      <th>F</th>\n",
       "      <th>M</th>\n",
       "    </tr>\n",
       "  </thead>\n",
       "  <tbody>\n",
       "    <tr>\n",
       "      <th>0</th>\n",
       "      <td>Q1</td>\n",
       "      <td>31.0</td>\n",
       "      <td>0.19</td>\n",
       "      <td>15625.00</td>\n",
       "    </tr>\n",
       "    <tr>\n",
       "      <th>1</th>\n",
       "      <td>Q2</td>\n",
       "      <td>62.0</td>\n",
       "      <td>0.23</td>\n",
       "      <td>19174.91</td>\n",
       "    </tr>\n",
       "    <tr>\n",
       "      <th>2</th>\n",
       "      <td>Q3</td>\n",
       "      <td>92.0</td>\n",
       "      <td>0.26</td>\n",
       "      <td>23831.62</td>\n",
       "    </tr>\n",
       "  </tbody>\n",
       "</table>\n",
       "</div>"
      ],
      "text/plain": [
       "  Quartiles     R     F         M\n",
       "0        Q1  31.0  0.19  15625.00\n",
       "1        Q2  62.0  0.23  19174.91\n",
       "2        Q3  92.0  0.26  23831.62"
      ]
     },
     "execution_count": 11,
     "metadata": {},
     "output_type": "execute_result"
    }
   ],
   "source": [
    "Quartiles =[\"Q1\",\"Q2\",\"Q3\"]\n",
    "df_quartiles = pd.DataFrame(list(zip(Quartiles, list_R,list_F,list_M)), columns=[\"Quartiles\",\"R\",\"F\",\"M\"])\n",
    "df_quartiles"
   ]
  },
  {
   "cell_type": "markdown",
   "metadata": {},
   "source": [
    "Add RFM column  by joining R, F, M columns"
   ]
  },
  {
   "cell_type": "code",
   "execution_count": 12,
   "metadata": {},
   "outputs": [],
   "source": [
    "df[\"RFM\"] = df[[\"R\",\"F\",\"M\"]].apply(lambda x: \"\".join(x.values.astype(str)), axis= 1)\n"
   ]
  },
  {
   "cell_type": "markdown",
   "metadata": {},
   "source": [
    "Generate Segment column by defining segment function and applying it"
   ]
  },
  {
   "cell_type": "code",
   "execution_count": 16,
   "metadata": {},
   "outputs": [],
   "source": [
    "def segment(i):\n",
    "    R = int(i[0]) \n",
    "    F = int(i[1])\n",
    "    M = int(i[2])\n",
    "    if R>=3 and F>=3 and M >=3:\n",
    "        return \"VIP\"\n",
    "    elif (R<=2 or F<=2) and M>=3:\n",
    "        return \"Potential Customers\"\n",
    "    elif (R>=3 or F>=3) and M<=2:\n",
    "        return \"Loyal Customers\"\n",
    "    else:\n",
    "        return \"Walk-in customers\"\n"
   ]
  },
  {
   "cell_type": "code",
   "execution_count": 17,
   "metadata": {},
   "outputs": [],
   "source": [
    "df[\"Segment\"] = df[\"RFM\"].apply(segment)"
   ]
  },
  {
   "cell_type": "markdown",
   "metadata": {},
   "source": [
    "Identify which segment each RFM belongs to"
   ]
  },
  {
   "cell_type": "code",
   "execution_count": 26,
   "metadata": {},
   "outputs": [
    {
     "data": {
      "text/plain": [
       "63"
      ]
     },
     "execution_count": 26,
     "metadata": {},
     "output_type": "execute_result"
    }
   ],
   "source": [
    "len(df[\"RFM\"].unique()) # There are 63 RFM's triplets in our data set"
   ]
  },
  {
   "cell_type": "code",
   "execution_count": 27,
   "metadata": {},
   "outputs": [
    {
     "data": {
      "text/html": [
       "<div>\n",
       "<style scoped>\n",
       "    .dataframe tbody tr th:only-of-type {\n",
       "        vertical-align: middle;\n",
       "    }\n",
       "\n",
       "    .dataframe tbody tr th {\n",
       "        vertical-align: top;\n",
       "    }\n",
       "\n",
       "    .dataframe thead th {\n",
       "        text-align: right;\n",
       "    }\n",
       "</style>\n",
       "<table border=\"1\" class=\"dataframe\">\n",
       "  <thead>\n",
       "    <tr style=\"text-align: right;\">\n",
       "      <th></th>\n",
       "      <th>segment</th>\n",
       "      <th>RFM</th>\n",
       "      <th>No.of RFM</th>\n",
       "    </tr>\n",
       "  </thead>\n",
       "  <tbody>\n",
       "    <tr>\n",
       "      <th>0</th>\n",
       "      <td>VIP</td>\n",
       "      <td>[333, 334, 343, 344, 433, 434, 443, 444]</td>\n",
       "      <td>8</td>\n",
       "    </tr>\n",
       "    <tr>\n",
       "      <th>1</th>\n",
       "      <td>Potential Customers</td>\n",
       "      <td>[113, 114, 123, 124, 133, 134, 143, 144, 213, ...</td>\n",
       "      <td>24</td>\n",
       "    </tr>\n",
       "    <tr>\n",
       "      <th>2</th>\n",
       "      <td>Loyal Customers</td>\n",
       "      <td>[131, 132, 141, 142, 231, 232, 241, 242, 311, ...</td>\n",
       "      <td>24</td>\n",
       "    </tr>\n",
       "    <tr>\n",
       "      <th>3</th>\n",
       "      <td>Walk-in customers</td>\n",
       "      <td>[111, 112, 121, 122, 211, 212, 221, 222]</td>\n",
       "      <td>8</td>\n",
       "    </tr>\n",
       "  </tbody>\n",
       "</table>\n",
       "</div>"
      ],
      "text/plain": [
       "               segment                                                RFM  \\\n",
       "0                  VIP           [333, 334, 343, 344, 433, 434, 443, 444]   \n",
       "1  Potential Customers  [113, 114, 123, 124, 133, 134, 143, 144, 213, ...   \n",
       "2      Loyal Customers  [131, 132, 141, 142, 231, 232, 241, 242, 311, ...   \n",
       "3    Walk-in customers           [111, 112, 121, 122, 211, 212, 221, 222]   \n",
       "\n",
       "   No.of RFM  \n",
       "0          8  \n",
       "1         24  \n",
       "2         24  \n",
       "3          8  "
      ]
     },
     "execution_count": 27,
     "metadata": {},
     "output_type": "execute_result"
    }
   ],
   "source": [
    "# Generate a list which includes all possible RFM's triplets\n",
    "values = list(range(1, 5))\n",
    "product  = itertools.product(values, repeat = 3)\n",
    "result = [str(a)+str(b)+str(c) for a, b, c in product]\n",
    "list_classify = [(i, segment(i)) for i in result]\n",
    "dict_classify = {\"VIP\":[], \"Potential Customers\":[],\"Loyal Customers\":[],\"Walk-in customers\":[]}\n",
    "for i, segment_i in list_classify:\n",
    "    dict_classify[segment_i].append(i)\n",
    "No_of_RFM = [len(dict_classify[\"VIP\"]), len(dict_classify[\"Potential Customers\"]), len(dict_classify[\"Loyal Customers\"]),len(dict_classify[\"Walk-in customers\"])]\n",
    "df_segment = pd.DataFrame(list(zip(list(dict_classify.keys()), list(dict_classify.values()), No_of_RFM)), columns=[\"segment\",\"RFM\",\"No.of RFM\"])\n",
    "df_segment"
   ]
  },
  {
   "cell_type": "markdown",
   "metadata": {},
   "source": [
    "Plot the Pie chart about Percentage of Segment"
   ]
  },
  {
   "cell_type": "code",
   "execution_count": 20,
   "metadata": {},
   "outputs": [
    {
     "data": {
      "text/plain": [
       "Text(0, 0.5, '')"
      ]
     },
     "execution_count": 20,
     "metadata": {},
     "output_type": "execute_result"
    },
    {
     "data": {
      "image/png": "[encoded data removed]",
      "text/plain": [
       "<Figure size 800x800 with 1 Axes>"
      ]
     },
     "metadata": {},
     "output_type": "display_data"
    }
   ],
   "source": [
    "fig, ax = plt.subplots(figsize = (8,8))\n",
    "Percentage_of_Segment =  df[\"Segment\"].value_counts().plot(kind= \"pie\", title=\"Percentage of Segment\", autopct='%.2f%%', startangle= 90, explode= [0.15,0,0,0], shadow=True)\n",
    "Percentage_of_Segment.set_ylabel(None)"
   ]
  },
  {
   "cell_type": "markdown",
   "metadata": {},
   "source": [
    "Plot the bar chart about Top 10 highest RFM"
   ]
  },
  {
   "cell_type": "code",
   "execution_count": 22,
   "metadata": {},
   "outputs": [
    {
     "data": {
      "text/plain": [
       "(array([0, 1, 2, 3, 4, 5, 6, 7, 8, 9]),\n",
       " [Text(0, 0, '344'),\n",
       "  Text(1, 0, '111'),\n",
       "  Text(2, 0, '311'),\n",
       "  Text(3, 0, '211'),\n",
       "  Text(4, 0, '122'),\n",
       "  Text(5, 0, '133'),\n",
       "  Text(6, 0, '132'),\n",
       "  Text(7, 0, '143'),\n",
       "  Text(8, 0, '121'),\n",
       "  Text(9, 0, '322')])"
      ]
     },
     "execution_count": 22,
     "metadata": {},
     "output_type": "execute_result"
    },
    {
     "data": {
      "image/png": "[encoded data removed]",
      "text/plain": [
       "<Figure size 1200x800 with 1 Axes>"
      ]
     },
     "metadata": {},
     "output_type": "display_data"
    }
   ],
   "source": [
    "RFM_top10 = df[\"RFM\"].value_counts().nlargest(10)\n",
    "fig, ax = plt.subplots(figsize = (12,8))\n",
    "RFM_top10_chart = RFM_top10.plot(kind= \"bar\", color = \"skyblue\")\n",
    "for i in RFM_top10_chart.containers:\n",
    "    RFM_top10_chart.bar_label(i,fmt = \"%.0f\",label_type=\"edge\")\n",
    "plt.title(\"Top 10 highest RFM\")\n",
    "plt.ylabel('No.of RFM')\n",
    "plt.xticks(rotation=45, ha='right', fontsize=9)"
   ]
  },
  {
   "cell_type": "markdown",
   "metadata": {},
   "source": [
    "Compute Indicators for each Segment"
   ]
  },
  {
   "cell_type": "code",
   "execution_count": 29,
   "metadata": {},
   "outputs": [
    {
     "data": {
      "text/html": [
       "<div>\n",
       "<style scoped>\n",
       "    .dataframe tbody tr th:only-of-type {\n",
       "        vertical-align: middle;\n",
       "    }\n",
       "\n",
       "    .dataframe tbody tr th {\n",
       "        vertical-align: top;\n",
       "    }\n",
       "\n",
       "    .dataframe thead th {\n",
       "        text-align: right;\n",
       "    }\n",
       "</style>\n",
       "<table border=\"1\" class=\"dataframe\">\n",
       "  <thead>\n",
       "    <tr style=\"text-align: right;\">\n",
       "      <th></th>\n",
       "      <th>Segment</th>\n",
       "      <th>Monetary_sum</th>\n",
       "      <th>R_Average</th>\n",
       "      <th>F_Average</th>\n",
       "    </tr>\n",
       "  </thead>\n",
       "  <tbody>\n",
       "    <tr>\n",
       "      <th>1</th>\n",
       "      <td>Potential Customers</td>\n",
       "      <td>8.354321e+08</td>\n",
       "      <td>1.573</td>\n",
       "      <td>2.982</td>\n",
       "    </tr>\n",
       "    <tr>\n",
       "      <th>2</th>\n",
       "      <td>VIP</td>\n",
       "      <td>6.905198e+08</td>\n",
       "      <td>3.008</td>\n",
       "      <td>3.751</td>\n",
       "    </tr>\n",
       "    <tr>\n",
       "      <th>3</th>\n",
       "      <td>Walk-in customers</td>\n",
       "      <td>4.494258e+08</td>\n",
       "      <td>1.424</td>\n",
       "      <td>1.476</td>\n",
       "    </tr>\n",
       "    <tr>\n",
       "      <th>0</th>\n",
       "      <td>Loyal Customers</td>\n",
       "      <td>4.181488e+08</td>\n",
       "      <td>2.482</td>\n",
       "      <td>2.328</td>\n",
       "    </tr>\n",
       "  </tbody>\n",
       "</table>\n",
       "</div>"
      ],
      "text/plain": [
       "               Segment  Monetary_sum  R_Average  F_Average\n",
       "1  Potential Customers  8.354321e+08      1.573      2.982\n",
       "2                  VIP  6.905198e+08      3.008      3.751\n",
       "3    Walk-in customers  4.494258e+08      1.424      1.476\n",
       "0      Loyal Customers  4.181488e+08      2.482      2.328"
      ]
     },
     "execution_count": 29,
     "metadata": {},
     "output_type": "execute_result"
    }
   ],
   "source": [
    "df_RFM_result= df.groupby(\"Segment\").agg({\"Monetary\":'sum', \"R\": 'mean', 'F': 'mean'}).reset_index()\n",
    "df_RFM_result.columns = [\"Segment\", \"Monetary_sum\", \"R_Average\", \"F_Average\"]\n",
    "df_RFM_result.sort_values(by=\"Monetary_sum\", ascending=False).round(3)"
   ]
  },
  {
   "cell_type": "code",
   "execution_count": 24,
   "metadata": {},
   "outputs": [],
   "source": [
    "# df.to_csv(\"RFM_data.csv\",index=False)"
   ]
  }
 ],
 "metadata": {
  "kernelspec": {
   "display_name": "Python 3",
   "language": "python",
   "name": "python3"
  },
  "language_info": {
   "codemirror_mode": {
    "name": "ipython",
    "version": 3
   },
   "file_extension": ".py",
   "mimetype": "text/x-python",
   "name": "python",
   "nbconvert_exporter": "python",
   "pygments_lexer": "ipython3",
   "version": "3.9.0"
  }
 },
 "nbformat": 4,
 "nbformat_minor": 2
}
